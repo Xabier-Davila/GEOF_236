{
  "nbformat": 4,
  "nbformat_minor": 0,
  "metadata": {
    "kernelspec": {
      "display_name": "Python 3",
      "language": "python",
      "name": "python3"
    },
    "language_info": {
      "codemirror_mode": {
        "name": "ipython",
        "version": 3
      },
      "file_extension": ".py",
      "mimetype": "text/x-python",
      "name": "python",
      "nbconvert_exporter": "python",
      "pygments_lexer": "ipython3",
      "version": "3.8.8"
    },
    "colab": {
      "name": "Exercise_NPZ_model.ipynb",
      "provenance": []
    }
  },
  "cells": [
    {
      "cell_type": "markdown",
      "metadata": {
        "id": "R6gjlBumLNAt"
      },
      "source": [
        "# GEOF 236 Modelling Activity\n",
        "\n",
        "Write a report of the modelling day, containing at least:\n",
        "\n",
        "* A short introduction to NP(Z) modelling and the methods we used in doing the exercises <br>\n",
        "* The answers to all exercises* (figures), including what you observed and why <br>\n",
        "* Explain everything as if you are explaining it to a fellow student<br>\n",
        "* A general conclusion of what you have learned through doing the exercises <br>\n",
        "\n",
        "Chapter 4 in Sarmiento & Gruber (2006) would be useful to understand the dynamics of the model. \n",
        "Do not forget to do spell-checking, put your name(s) on the report and in the file name, and hand them in in pdf format. Working together (f.e., discussing the results) between groups is OK, but make your own plots and write your own text.\n",
        "\n",
        "**Note that you need to pass in order to take the exam.**"
      ]
    },
    {
      "cell_type": "markdown",
      "metadata": {
        "id": "qTTXVyYPLNA3"
      },
      "source": [
        "## N-P Model "
      ]
    },
    {
      "cell_type": "markdown",
      "metadata": {
        "id": "HVPUgknYLNA4"
      },
      "source": [
        "### Three different experiments were carried out with varying Nitrate and Phytoplankton initial concentrations. \n",
        "\n",
        "The N-P model in Figure 4.3.4 (Sarmiento & Gruber 2006) has two components which require two conservation equations. Some assumptions need to be made in order to simplify the model, such as negligable contribution of mixing and advection and sinking of organic matter. We also assume that the light supply is not limit growth (Equation 4.3.6):\n",
        "\n",
        "$$ \\dfrac{dP(t)}{dt} = P V_{max} \\dfrac{N}{K_N + N} - P\\lambda_P$$\n",
        "\n",
        "Where $V_{max}$ is the \"maximum growth rate\", $K_N$ is the \"half saturation constant\" for N and $\\lambda_P$ is the \"mortality rate\" for P. \n",
        "\n",
        "\n",
        "A steady state solution also requires that the supply of N from P decay must be balanced by the photosynthetic uptake, therefore we add the term $\\mu_p$ (Equation 4.3.7):\n",
        "\n",
        "$$ \\dfrac{dN(t)}{dt} = -P V_{max} \\dfrac{N}{K_N + N} + P \\mu_p \\lambda_P$$\n",
        "\n",
        "Where the first term in the right hand side is the removal of nitrate from P and the second is the supply due to decay of P.   \n",
        "\n",
        "\n",
        "#### Experiment 1: Low Nitrogen\n",
        "The initial values are: <br>\n",
        "* P$_{t0}$ = 0.003 mmol/m$^3$ <br>\n",
        "* N$_{t0}$ = 0 mmol/m$^3$ <br>\n",
        "\n",
        "\n",
        "#### Experiment 2a: High Nitrogen\n",
        "The initial values are: <br>\n",
        "* P$_{t0}$ = 0.01 mmol/m$^3$ <br>\n",
        "* N$_{t0}$ = 0 mmol/m$^3$ <br>\n",
        "\n",
        "#### Experiment 2b: High Nitrogen\n",
        "The initial values are: <br>\n",
        "* P$_{t0}$ = 0.03 mmol/m$^3$ <br>\n",
        "* N$_{t0}$ = 0 mmol/m$^3$ <br>"
      ]
    },
    {
      "cell_type": "code",
      "metadata": {
        "id": "ipWeKrV5LNA6",
        "colab": {
          "base_uri": "https://localhost:8080/"
        },
        "outputId": "40298c06-10d0-4e0c-88f1-250118276ef9"
      },
      "source": [
        "# First we import the libraries we are going to use\n",
        "import numpy as np\n",
        "import pandas as pd\n",
        "import matplotlib.pyplot as plt\n",
        "import os \n",
        "\n",
        "# Clone github repository \n",
        "!git clone https://github.com/xabi94davi/GEOF_236.git\n",
        "\n",
        "# Set the working directory\n",
        "os.chdir('GEOF_236')\n",
        "\n",
        "#import model functions eco_NP and eco_NPZ\n",
        "from NPZ_Model import eco_NP, eco_NPZ"
      ],
      "execution_count": 10,
      "outputs": [
        {
          "output_type": "stream",
          "name": "stdout",
          "text": [
            "Cloning into 'GEOF_236'...\n",
            "remote: Enumerating objects: 29, done.\u001b[K\n",
            "remote: Counting objects: 100% (29/29), done.\u001b[K\n",
            "remote: Compressing objects: 100% (25/25), done.\u001b[K\n",
            "remote: Total 29 (delta 7), reused 18 (delta 3), pack-reused 0\u001b[K\n",
            "Unpacking objects: 100% (29/29), done.\n"
          ]
        }
      ]
    },
    {
      "cell_type": "code",
      "metadata": {
        "id": "1Q0iKYKGLNA9"
      },
      "source": [
        "# Specify initial conditions for Phytoplankton (P_t0) and Nitrate (N_t0) \n",
        "P_t0 = 0.003\n",
        "N_t0 = 0.01\n",
        "\n",
        "# Call the eco_NP model from NPZ_model module file\n",
        "P, N, Total_N, time = eco_NP(P_t0, N_t0) # P = Phytoplankton, N = Dissolved Nitrate, Total_N = Total Nitrate\n",
        "\n",
        "%reload_ext autoreload\n",
        "%autoreload 2"
      ],
      "execution_count": 17,
      "outputs": []
    },
    {
      "cell_type": "code",
      "metadata": {
        "tags": [],
        "id": "zcAg6lS-LNA_",
        "outputId": "5b928660-a17a-4556-b31c-dd90529360bb",
        "colab": {
          "base_uri": "https://localhost:8080/",
          "height": 296
        }
      },
      "source": [
        "#Plot figure\n",
        "plt.plot(time[:-1], P[:-1], label = 'Phytoplankton')\n",
        "plt.plot(time[:-1], N[:-1], label='Dissolved Nitrate')\n",
        "plt.plot(time[:-1], Total_N[:-1], label = 'Total Nitrate')\n",
        "plt.xlabel('Time [day]')\n",
        "plt.ylabel('Nitrate concentration [mmol/m$^3$]')\n",
        "plt.legend()"
      ],
      "execution_count": 18,
      "outputs": [
        {
          "output_type": "execute_result",
          "data": {
            "text/plain": [
              "<matplotlib.legend.Legend at 0x7fa08258c450>"
            ]
          },
          "metadata": {},
          "execution_count": 18
        },
        {
          "output_type": "display_data",
          "data": {
            "image/png": "[encoded data removed]",
            "text/plain": [
              "<Figure size 432x288 with 1 Axes>"
            ]
          },
          "metadata": {
            "needs_background": "light"
          }
        }
      ]
    },
    {
      "cell_type": "markdown",
      "metadata": {
        "id": "OS8rlHjTLNBD"
      },
      "source": [
        "## N-P-Z Model"
      ]
    },
    {
      "cell_type": "markdown",
      "metadata": {
        "id": "hXC53msRLNBE"
      },
      "source": [
        "### Three different experiments were carried out with varying Nitrate, Phytoplankton and Zooplankton initial concentrations. \n",
        "\n",
        "Since the presence of Z affects P due to grazing, now we also have to modify the equations for P (Equation 4.3.11):\n",
        "\n",
        "$$ \\dfrac{dP(t)}{dt} = P V_{max} \\dfrac{N}{K_n + N} - P\\lambda_P - Zg \\dfrac{P}{K_p}$$\n",
        "\n",
        "Where the first term on the right hand side is the growth of P, the second term is the loss of P due to its decay, and the third is the loss due to grazing by Z. \n",
        "\n",
        "\n",
        "\n",
        "For Zooplankton, we have growth due to grazing, $\\gamma_Z g \\dfrac{P}{K_p}$,  and also mortality, $\\lambda_Z$ (Equation 4.3.12):\n",
        "\n",
        "$$ \\dfrac{dZ(t)}{dt} = Z \\gamma_Z g \\dfrac{P}{K_p} - Z\\lambda_Z$$\n",
        "\n",
        "Where $\\gamma_Z$ is the \"assimilation efficency\", $g$ is the \"maximum growth rate\". \n",
        "\n",
        "\n",
        "Same goes for Nitrate (Equation 4.3.13): \n",
        "\n",
        "$$ \\dfrac{dN(t)}{dt} = -P V_{max} \\dfrac{N}{K_n + N} + Z\\mu_Z(1-\\gamma_Z)g\\dfrac{P}{K_p} + \\mu_p \\lambda_P + Z\\mu_Z\\lambda_Z $$\n",
        "\n",
        "Where $\\mu_Z$ is the fraction of zooplankton losses and unassimilated organic nitrogen that is remineralized. Where the first term is the loss of N due to uptake by P, the second term is the remineralization of Z excretions. The last two terms refers to the remineralization of P and the Z, respectively. In addition  ($1-\\gamma_Z$) represents the unassimilated fraction of the grazing of Z on P. \n",
        "\n",
        "\n",
        "#### Experiment 1a: \n",
        "The initial values are: <br>\n",
        "* P$_{t0}$ = 0.03 mmol/m$^3$ <br>\n",
        "* N$_{t0}$ = 0 mmol/m$^3$ <br>\n",
        "* Z$_{t0}$ = 0.01 mmol/m$^3$ <br>\n",
        "\n",
        "\n",
        "#### Experiment 2a High Nitrogen:\n",
        "The initial values are: <br>\n",
        "* P$_{t0}$ = 1.5 mmol/m$^3$ <br>\n",
        "* N$_{t0}$ = 0 mmol/m$^3$ <br>\n",
        "* Z$_{t0}$ = 0.1 mmol/m$^3$ <br>\n",
        "\n",
        "#### Experiment 2b High Nitrogen: \n",
        "The initial values are: <br>\n",
        "* P$_{t0}$ = 2.0 mmol/m$^3$ <br>\n",
        "* N$_{t0}$ = 1.0 mmol/m$^3$ <br>\n",
        "* Z$_{t0}$ = 1.0. mmol/m$^3$ <br>\n",
        "\n",
        "Compare the results to the NP model case 2b!"
      ]
    },
    {
      "cell_type": "code",
      "metadata": {
        "id": "ULjwhuSxLNBF"
      },
      "source": [
        "# Specify initial conditions for Phytoplankton (P_t0), Nitrate (N_t0) and Zooplankton (Z_t0)\n",
        "P_t0 = 0.03\n",
        "N_t0 = 0\n",
        "Z_t0 = 1\n",
        "\n",
        "# Call the eco_NPZ model from NPZ_model module file\n",
        "P, N, Z, Total_N, time = eco_NPZ(P_t0, N_t0, Z_t0) # P = Phytoplankton, N = Dissolved Nitrate, Z= Zooplankton, Total_N = Total Nitrate\n",
        "\n",
        "\n",
        "%reload_ext autoreload\n",
        "%autoreload 2"
      ],
      "execution_count": 19,
      "outputs": []
    },
    {
      "cell_type": "code",
      "metadata": {
        "tags": [],
        "id": "g2SDQZP4LNBH",
        "outputId": "d2181a9d-f5dc-4e2d-af52-1b70d5aa341f",
        "colab": {
          "base_uri": "https://localhost:8080/",
          "height": 296
        }
      },
      "source": [
        "#Plot figure\n",
        "plt.plot(time[:-1], P[:-1], label = 'Phytoplankton')\n",
        "plt.plot(time[:-1], N[:-1], label = 'Dissolved Nitrate')\n",
        "plt.plot(time[:-1], Total_N[:-1], label = 'Total Nitrate')\n",
        "plt.plot(time[:-1], Z[:-1], label = 'Zooplankton')\n",
        "plt.xlabel('Time [day]')\n",
        "plt.ylabel('Nitrate concentration [mmol/m$^3$]')\n",
        "plt.legend()"
      ],
      "execution_count": 20,
      "outputs": [
        {
          "output_type": "execute_result",
          "data": {
            "text/plain": [
              "<matplotlib.legend.Legend at 0x7fa0824724d0>"
            ]
          },
          "metadata": {},
          "execution_count": 20
        },
        {
          "output_type": "display_data",
          "data": {
            "image/png": "[encoded data removed]",
            "text/plain": [
              "<Figure size 432x288 with 1 Axes>"
            ]
          },
          "metadata": {
            "needs_background": "light"
          }
        }
      ]
    },
    {
      "cell_type": "code",
      "metadata": {
        "id": "ZLMo6ve77DN7"
      },
      "source": [
        ""
      ],
      "execution_count": null,
      "outputs": []
    }
  ]
}